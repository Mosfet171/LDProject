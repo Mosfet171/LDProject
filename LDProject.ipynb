{
 "cells": [
  {
   "cell_type": "markdown",
   "id": "0d0e8a58",
   "metadata": {},
   "source": [
    "out: N=1000, transient=1000, eval=1000, gran=64\n",
    "out2: N=1000, transient=100, eval=100, gran=64\n",
    "out3: N=1000, transient=50, eval=50, gran=64\n",
    "out4: N=1000, transient=0, eval=1, gran=64\n",
    "out5: N=2000, transient=0, eval=1, gran=64"
   ]
  },
  {
   "cell_type": "code",
   "execution_count": 5,
   "id": "5c9a6f6b",
   "metadata": {},
   "outputs": [],
   "source": [
    "import numpy as np\n",
    "import os\n",
    "\n",
    "os.chdir(\"/Users/mos/Documents/ULB/MA3.tmp/INFO-F409/Exam/LDProject/out/out7\")\n",
    "GRANULARITY = 64\n",
    "\n",
    "data = np.zeros((GRANULARITY,GRANULARITY))\n",
    "for i in range(GRANULARITY): # Over S's\n",
    "    with open(\"out_S_{}.txt\".format(i)) as file:\n",
    "        x = 0\n",
    "        for line in file:\n",
    "            data[i,x] = line\n",
    "            x += 1"
   ]
  },
  {
   "cell_type": "code",
   "execution_count": 6,
   "id": "b72c1659",
   "metadata": {},
   "outputs": [
    {
     "data": {
      "text/plain": [
       "883.828"
      ]
     },
     "execution_count": 6,
     "metadata": {},
     "output_type": "execute_result"
    }
   ],
   "source": [
    "np.max(np.max(data))"
   ]
  },
  {
   "cell_type": "code",
   "execution_count": 7,
   "id": "964eec39",
   "metadata": {},
   "outputs": [
    {
     "data": {
      "text/plain": [
       "<matplotlib.colorbar.Colorbar at 0x117245850>"
      ]
     },
     "execution_count": 7,
     "metadata": {},
     "output_type": "execute_result"
    },
    {
     "data": {
      "image/png": "[encoded data removed]",
      "text/plain": [
       "<Figure size 432x288 with 2 Axes>"
      ]
     },
     "metadata": {
      "needs_background": "light"
     },
     "output_type": "display_data"
    }
   ],
   "source": [
    "import matplotlib.pyplot as plt\n",
    "\n",
    "S = np.linspace(-1,1,GRANULARITY)\n",
    "T = np.linspace(0,2,GRANULARITY)\n",
    "\n",
    "X,Y = np.meshgrid(T,S)\n",
    "\n",
    "\n",
    "clev = np.arange(0,1100,1)\n",
    "plt.contourf(X,Y,data, clev, cmap='turbo')\n",
    "plt.colorbar()"
   ]
  },
  {
   "cell_type": "code",
   "execution_count": null,
   "id": "bd79af46",
   "metadata": {},
   "outputs": [],
   "source": [
    "for line in data[51]:\n",
    "    print(line)"
   ]
  },
  {
   "cell_type": "code",
   "execution_count": 30,
   "id": "e2d39fa3",
   "metadata": {},
   "outputs": [],
   "source": [
    "from pylab import *\n",
    "from numpy import *\n",
    "from matplotlib.colors import LinearSegmentedColormap\n",
    "\n",
    "class nlcmap(LinearSegmentedColormap):\n",
    "    \"\"\"A nonlinear colormap\"\"\"\n",
    "    \n",
    "    name = 'nlcmap'\n",
    "    \n",
    "    def __init__(self, cmap, levels):\n",
    "        self.cmap = cmap\n",
    "        # @MRR: Need to add N for backend\n",
    "        self.N = cmap.N\n",
    "        self.monochrome = self.cmap.monochrome\n",
    "        self.levels = asarray(levels, dtype='float64')\n",
    "        self._x = self.levels / self.levels.max()\n",
    "        self._y = linspace(0.0, 1.0, len(self.levels))\n",
    "    \n",
    "    #@MRR Need to add **kw for 'bytes'\n",
    "    def __call__(self, xi, alpha=1.0, **kw):\n",
    "        \"\"\"docstring for fname\"\"\"\n",
    "        # @MRR: Appears broken? \n",
    "        # It appears something's wrong with the\n",
    "        # dimensionality of a calculation intermediate\n",
    "        #yi = stineman_interp(xi, self._x, self._y)\n",
    "        yi = interp(xi, self._x, self._y)\n",
    "        return self.cmap(yi, alpha)\n",
    "\n",
    "    \n",
    "levels = [0, 1, 2, 3, 4, 5, 6, 10, 20, 50, 100, 900, 990, 995, 997, 1000]\n",
    "cmap_lin = cm.turbo\n",
    "cmap_nonlin = nlcmap(cmap_lin, levels)"
   ]
  },
  {
   "cell_type": "code",
   "execution_count": null,
   "id": "c282328c",
   "metadata": {},
   "outputs": [],
   "source": []
  }
 ],
 "metadata": {
  "kernelspec": {
   "display_name": "Python 3 (ipykernel)",
   "language": "python",
   "name": "python3"
  },
  "language_info": {
   "codemirror_mode": {
    "name": "ipython",
    "version": 3
   },
   "file_extension": ".py",
   "mimetype": "text/x-python",
   "name": "python",
   "nbconvert_exporter": "python",
   "pygments_lexer": "ipython3",
   "version": "3.9.13"
  }
 },
 "nbformat": 4,
 "nbformat_minor": 5
}
